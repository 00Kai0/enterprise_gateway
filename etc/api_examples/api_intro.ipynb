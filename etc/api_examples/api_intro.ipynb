{
 "cells": [
  {
   "cell_type": "markdown",
   "metadata": {},
   "source": [
    "# Defining a Web API in a Notebook\n",
    "\n",
    "In this notebook, we'll define a RESTful web API for adding, updating, removing, and listing the members of a contact list. We'll then deploy our notebook as a service usign the Jupyter Kernel Gateway.\n",
    "\n",
    "The contact list supported by this notebook is intentionally simple. See https://github.com/jupyter/kernel_gateway_demos for more complex examples and http://jupyter-kernel-gateway.readthedocs.io/en/latest/http-mode.html for full documentation.\n",
    "\n",
    "**Table of Contents**\n",
    "\n",
    "1. [Definition](#Definition)\n",
    "2. [Implementation](#Implementation)\n",
    "    1. [Create a contact](#Create-a-contact)\n",
    "    2. [Update a contact](#Update-a-contact)\n",
    "    3. [Delete a contact](#Delete-a-contact)\n",
    "    4. [Get contacts](#Get-contacts)\n",
    "3. [Deployment](#Deployment)\n",
    "4. [Test](#Test)\n",
    "5. [Improvement](#Improvement)"
   ]
  },
  {
   "cell_type": "markdown",
   "metadata": {},
   "source": [
    "## Definition\n",
    "\n",
    "Let's start by outlining the resources for our contact list.\n",
    "\n",
    "* `POST /contacts` &rarr; create a new contact\n",
    "* `PUT /contacts/:contact_id` &rarr; update a contact\n",
    "* `DELETE /contacts/:contact_id` &rarr; delete a contact\n",
    "* `GET /contacts?name=<regex>` &rarr; get contacts, optionally filtered by name\n",
    "\n",
    "We'll also state that requests and responses should carry JSON content for consistency."
   ]
  },
  {
   "cell_type": "markdown",
   "metadata": {},
   "source": [
    "## Implementation"
   ]
  },
  {
   "cell_type": "code",
   "execution_count": 47,
   "metadata": {
    "collapsed": true
   },
   "outputs": [],
   "source": [
    "import json\n",
    "import os\n",
    "import uuid"
   ]
  },
  {
   "cell_type": "markdown",
   "metadata": {},
   "source": [
    "For simplicity, we'll use a global dictionary to store our contact list. If we later want to make our list persistent or our web service scale to multiple workers, we can switch to a true data store."
   ]
  },
  {
   "cell_type": "code",
   "execution_count": 53,
   "metadata": {
    "collapsed": true
   },
   "outputs": [],
   "source": [
    "contacts = {}"
   ]
  },
  {
   "cell_type": "markdown",
   "metadata": {},
   "source": [
    "These are the fields we'll allow for each contact."
   ]
  },
  {
   "cell_type": "code",
   "execution_count": 54,
   "metadata": {
    "collapsed": true
   },
   "outputs": [],
   "source": [
    "fields = ['name', 'phone', 'address']"
   ]
  },
  {
   "cell_type": "markdown",
   "metadata": {},
   "source": [
    "### Create a contact\n",
    "\n",
    "We'll want to get the values for the name, phone, and address fields from the client when we create a contact. The kernel gateway will set the `REQUEST` variable to a JSON string containing information from the client. Let's synthesize an example request here in order to develop the code to add a contact to our contact list."
   ]
  },
  {
   "cell_type": "code",
   "execution_count": 75,
   "metadata": {
    "collapsed": true
   },
   "outputs": [],
   "source": [
    "REQUEST = json.dumps({\n",
    "    'body': {\n",
    "        'name': 'Jane Doe',\n",
    "        'phone': '888-555-5245',\n",
    "        'address': '123 Bellview Drive, Somewhere, NC'\n",
    "    }\n",
    "})"
   ]
  },
  {
   "cell_type": "markdown",
   "metadata": {},
   "source": [
    "Now let's write the handler code. We'll also annotate it so that the kernel gateway knows the code in this cell should execute when a client sends a HTTP `POST` request to the `/contacts` path."
   ]
  },
  {
   "cell_type": "code",
   "execution_count": 76,
   "metadata": {
    "collapsed": false
   },
   "outputs": [
    {
     "name": "stdout",
     "output_type": "stream",
     "text": [
      "{\"contact_id\": \"c50c57ca-a23f-4eb2-8254-76c86c032576\"}\n"
     ]
    }
   ],
   "source": [
    "# POST /contacts\n",
    "# decode the request\n",
    "req = json.loads(REQUEST)\n",
    "# pull out the body\n",
    "body = req['body']\n",
    "# generate a new contact ID\n",
    "new_contact_id = str(uuid.uuid4())\n",
    "# put what we can about the contact in the dictionary\n",
    "contacts[new_contact_id] = {field: body.get(field) for field in fields}\n",
    "print(json.dumps({'contact_id': new_contact_id}))"
   ]
  },
  {
   "cell_type": "markdown",
   "metadata": {},
   "source": [
    "We can print the contacts to see if it contains the data from our sample request, and see that it does."
   ]
  },
  {
   "cell_type": "code",
   "execution_count": 77,
   "metadata": {
    "collapsed": false
   },
   "outputs": [
    {
     "data": {
      "text/plain": [
       "{'c50c57ca-a23f-4eb2-8254-76c86c032576': {'address': '123 Bellview Drive, Somewhere, NC',\n",
       "  'name': 'Jane Doe',\n",
       "  'phone': '888-555-5245'}}"
      ]
     },
     "execution_count": 77,
     "metadata": {},
     "output_type": "execute_result"
    }
   ],
   "source": [
    "contacts"
   ]
  },
  {
   "cell_type": "markdown",
   "metadata": {},
   "source": [
    "It's worth pointing out that we can put development code like this in our notebook without harming how it works with the kernel gateway as long as our notebook can run top to bottom. With a little more effort, we can even write basic tests in our notebook that run only when we're authoring or editing the notebook."
   ]
  },
  {
   "cell_type": "markdown",
   "metadata": {},
   "source": [
    "### Update a contact\n",
    "\n",
    "We can follow the same pattern to implement updates to existing contacts. We start with an example request."
   ]
  },
  {
   "cell_type": "code",
   "execution_count": 78,
   "metadata": {
    "collapsed": true
   },
   "outputs": [],
   "source": [
    "REQUEST = json.dumps({\n",
    "    'body': {\n",
    "        'name': 'Jane and John Doe',\n",
    "        'phone': '888-555-5245',\n",
    "        'address': '321 Viewbell Lane, Somewhere Else, SC'\n",
    "    },\n",
    "    'path': {\n",
    "        'contact_id': new_contact_id\n",
    "    }\n",
    "})"
   ]
  },
  {
   "cell_type": "markdown",
   "metadata": {},
   "source": [
    "This time, we need to know the identity assigned to the contact we're updating. We'll get that by declaring a variable in the path of the resource, `contact_id`, and read the value from the request."
   ]
  },
  {
   "cell_type": "code",
   "execution_count": 79,
   "metadata": {
    "collapsed": false
   },
   "outputs": [],
   "source": [
    "# PUT /contacts/:contact_id\n",
    "req = json.loads(REQUEST)\n",
    "body = req['body']\n",
    "contact_id = req['path']['contact_id']\n",
    "if contact_id in contacts:\n",
    "    contacts[contact_id] = {field: body.get(field) for field in fields}\n",
    "    status = 200\n",
    "else:\n",
    "    status = 404"
   ]
  },
  {
   "cell_type": "code",
   "execution_count": 80,
   "metadata": {
    "collapsed": false
   },
   "outputs": [
    {
     "data": {
      "text/plain": [
       "{'c50c57ca-a23f-4eb2-8254-76c86c032576': {'address': '321 Viewbell Lane, Somewhere Else, SC',\n",
       "  'name': 'Jane and John Doe',\n",
       "  'phone': '888-555-5245'}}"
      ]
     },
     "execution_count": 80,
     "metadata": {},
     "output_type": "execute_result"
    }
   ],
   "source": [
    "contacts"
   ]
  },
  {
   "cell_type": "markdown",
   "metadata": {},
   "source": []
  },
  {
   "cell_type": "code",
   "execution_count": 81,
   "metadata": {
    "collapsed": false
   },
   "outputs": [
    {
     "name": "stdout",
     "output_type": "stream",
     "text": [
      "{\"status\": 200}\n"
     ]
    }
   ],
   "source": [
    "# ResponseInfo PUT /contacts/:contact_id\n",
    "print(json.dumps({\n",
    "    \"status\" : status\n",
    "}))"
   ]
  },
  {
   "cell_type": "markdown",
   "metadata": {},
   "source": [
    "### Delete a contact"
   ]
  },
  {
   "cell_type": "markdown",
   "metadata": {},
   "source": [
    "Our deletion code is much the same. We take a contact ID and remove it from our dict if it exists. We respond with a reasonable status code for successful deletion or a failure when the given ID is not found."
   ]
  },
  {
   "cell_type": "code",
   "execution_count": 82,
   "metadata": {
    "collapsed": false
   },
   "outputs": [],
   "source": [
    "# DELETE /contacts/:contact_id\n",
    "req = json.loads(REQUEST)\n",
    "contact_id = req['path']['contact_id']\n",
    "if contact_id in contacts:\n",
    "    del contacts[contact_id]\n",
    "    # HTTP status code for no body\n",
    "    status = 204\n",
    "else:\n",
    "    # HTTP status code for not found\n",
    "    status = 404"
   ]
  },
  {
   "cell_type": "code",
   "execution_count": null,
   "metadata": {
    "collapsed": true
   },
   "outputs": [],
   "source": [
    "# ResponseInfo DELETE /contacts/:contact_id\n",
    "print(json.dumps({\n",
    "    \"status\" : status\n",
    "}))"
   ]
  },
  {
   "cell_type": "markdown",
   "metadata": {},
   "source": [
    "### Get contacts\n",
    "\n",
    "TODO: describe, implement"
   ]
  },
  {
   "cell_type": "code",
   "execution_count": 70,
   "metadata": {
    "collapsed": true
   },
   "outputs": [],
   "source": [
    "def filter_by_name(name_regex, contacts):\n",
    "    # TODO: implement\n",
    "    if name is not None:\n",
    "        return {}\n",
    "    else:\n",
    "        return contacts\n",
    "        "
   ]
  },
  {
   "cell_type": "code",
   "execution_count": 69,
   "metadata": {
    "collapsed": false
   },
   "outputs": [
    {
     "name": "stdout",
     "output_type": "stream",
     "text": [
      "{}\n"
     ]
    }
   ],
   "source": [
    "# GET /contacts\n",
    "req = json.loads(REQUEST)\n",
    "name_regex = req.get('query', {}).get('name')\n",
    "hits = filter_by_name(name_regex, contacts)\n",
    "print(json.dumps(hits))"
   ]
  },
  {
   "cell_type": "markdown",
   "metadata": {},
   "source": [
    "## Deployment\n",
    "\n",
    "TODO: give command line"
   ]
  },
  {
   "cell_type": "markdown",
   "metadata": {},
   "source": [
    "## Test\n",
    "\n",
    "TODO: explain how to run against local KG and complete code"
   ]
  },
  {
   "cell_type": "code",
   "execution_count": 83,
   "metadata": {
    "collapsed": true
   },
   "outputs": [],
   "source": [
    "import requests"
   ]
  },
  {
   "cell_type": "code",
   "execution_count": null,
   "metadata": {
    "collapsed": true
   },
   "outputs": [],
   "source": [
    "requests.post('http://localhost:9000')"
   ]
  },
  {
   "cell_type": "code",
   "execution_count": null,
   "metadata": {
    "collapsed": true
   },
   "outputs": [],
   "source": [
    "requests.get('http://localhost:9000')"
   ]
  },
  {
   "cell_type": "code",
   "execution_count": null,
   "metadata": {
    "collapsed": true
   },
   "outputs": [],
   "source": [
    "requests.put('http://localhost:9000')"
   ]
  },
  {
   "cell_type": "code",
   "execution_count": null,
   "metadata": {
    "collapsed": true
   },
   "outputs": [],
   "source": [
    "requests.get('http://localhost:9000')"
   ]
  },
  {
   "cell_type": "code",
   "execution_count": null,
   "metadata": {
    "collapsed": true
   },
   "outputs": [],
   "source": [
    "requests.post('http://localhost:9000')\n",
    "requests.post('http://localhost:9000')"
   ]
  },
  {
   "cell_type": "code",
   "execution_count": null,
   "metadata": {
    "collapsed": true
   },
   "outputs": [],
   "source": [
    "requests.get('http://localhost:9000')"
   ]
  },
  {
   "cell_type": "code",
   "execution_count": null,
   "metadata": {
    "collapsed": true
   },
   "outputs": [],
   "source": [
    "requests.delete('http://localhost:9000')"
   ]
  },
  {
   "cell_type": "markdown",
   "metadata": {},
   "source": [
    "## Improvement\n",
    "\n",
    "TODO: response info mimetype, unit tests inline, KERNEL_GATEWAY env var"
   ]
  }
 ],
 "metadata": {
  "kernelspec": {
   "display_name": "Python 3",
   "language": "python",
   "name": "python3"
  },
  "language_info": {
   "codemirror_mode": {
    "name": "ipython",
    "version": 3
   },
   "file_extension": ".py",
   "mimetype": "text/x-python",
   "name": "python",
   "nbconvert_exporter": "python",
   "pygments_lexer": "ipython3",
   "version": "3.5.2"
  }
 },
 "nbformat": 4,
 "nbformat_minor": 0
}
